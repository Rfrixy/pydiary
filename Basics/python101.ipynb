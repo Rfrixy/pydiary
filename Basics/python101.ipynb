{
 "cells": [
  {
   "cell_type": "markdown",
   "metadata": {},
   "source": [
    "### What is this guide?\n",
    "\n",
    "This guide is aimed at experienced programmers new to python and focuses on brevity. It seeks to teach basic, frequently used code via examples.\n",
    "\n",
    "Please use python3 and not python2"
   ]
  },
  {
   "cell_type": "markdown",
   "metadata": {},
   "source": [
    "### Ipython refresher\n",
    "Press shift+enter on a code cell to run it."
   ]
  },
  {
   "cell_type": "markdown",
   "metadata": {},
   "source": [
    "### Introduction"
   ]
  },
  {
   "cell_type": "code",
   "execution_count": 5,
   "metadata": {},
   "outputs": [
    {
     "name": "stdout",
     "output_type": "stream",
     "text": [
      "Hello World\n"
     ]
    }
   ],
   "source": [
    "print(\"Hello World\")"
   ]
  },
  {
   "cell_type": "code",
   "execution_count": 9,
   "metadata": {},
   "outputs": [
    {
     "name": "stdout",
     "output_type": "stream",
     "text": [
      "Variable names and function names in python should strictly be lowercase and may contain underscores\n"
     ]
    }
   ],
   "source": [
    "# This is a comment\n",
    "''' This is a \n",
    "multiline comment'''\n",
    "print(\"Variable names and function names in python should strictly be lowercase and may contain underscores\")"
   ]
  },
  {
   "cell_type": "code",
   "execution_count": 109,
   "metadata": {},
   "outputs": [
    {
     "name": "stdout",
     "output_type": "stream",
     "text": [
      "2\n",
      "0\n",
      "1.5\n",
      "1\n",
      "27\n"
     ]
    }
   ],
   "source": [
    "# Various numerical operations\n",
    "print(1 + 1)\n",
    "print(1 - 1)\n",
    "print(3 / 2)\n",
    "print(3 // 2) # floor division\n",
    "print(3 ** 3) # exponent"
   ]
  },
  {
   "cell_type": "code",
   "execution_count": 14,
   "metadata": {},
   "outputs": [
    {
     "name": "stdout",
     "output_type": "stream",
     "text": [
      "2\n"
     ]
    }
   ],
   "source": [
    "def i_am_a_function(a,b): # function definition syntax\n",
    "    a += 5 # notice the indentation.\n",
    "    b -= 5\n",
    "    return(a + b) # the function ends when the indentation stops\n",
    "\n",
    "answer = i_am_a_function(1,1) # variable types do not need to be explicitly declared\n",
    "print(answer)"
   ]
  },
  {
   "cell_type": "code",
   "execution_count": 110,
   "metadata": {},
   "outputs": [
    {
     "name": "stdout",
     "output_type": "stream",
     "text": [
      "<class 'str'>\n",
      "75\n",
      "<class 'int'>\n"
     ]
    }
   ],
   "source": [
    "s = \"I am a string variable, python will assign me this type during compile time\"\n",
    "print(type(s))\n",
    "print(len(s)) # length\n",
    "s = \"I may be re-assigned at any time\"\n",
    "s = 43\n",
    "print(type(s))"
   ]
  },
  {
   "cell_type": "code",
   "execution_count": 50,
   "metadata": {},
   "outputs": [
    {
     "name": "stdout",
     "output_type": "stream",
     "text": [
      "1|2|3|Print statement can take multiple arguments**"
     ]
    }
   ],
   "source": [
    "a,b,c,d = 1,2,3,\"Many variables can be assigned together\"\n",
    "print(a,b,c, \"Print statement can take multiple arguments\", sep='|', end ='**')"
   ]
  },
  {
   "cell_type": "code",
   "execution_count": 42,
   "metadata": {},
   "outputs": [
    {
     "name": "stdout",
     "output_type": "stream",
     "text": [
      "String formatting 42\n",
      "More ways to join strings and numbers 1 2 3 4.000000\n"
     ]
    }
   ],
   "source": [
    "s = \"String formatting \"\n",
    "n = 42\n",
    "a = s + str(n) # joining strings and numbers\n",
    "print(a)\n",
    "print(\"More ways to join strings and numbers %s %s %d %f\"%(1,2,3,4))"
   ]
  },
  {
   "cell_type": "markdown",
   "metadata": {},
   "source": [
    "### Loops and control flow"
   ]
  },
  {
   "cell_type": "code",
   "execution_count": 56,
   "metadata": {},
   "outputs": [
    {
     "name": "stdout",
     "output_type": "stream",
     "text": [
      "0-multiple of 3\n",
      "1-worthless number\n",
      "2-multiple of 2\n",
      "3-multiple of 3\n",
      "4-multiple of 2\n",
      "5-worthless number\n",
      "6-multiple of 3\n",
      "7-worthless number\n",
      "8-multiple of 2\n",
      "9-multiple of 3\n",
      "\n",
      "Out of the loop\n"
     ]
    }
   ],
   "source": [
    "for i in range(10): # loops from 0 - 9\n",
    "    print(i, end = '') # avoiding newline at the end of print\n",
    "    if(i%3 == 0):\n",
    "        print ('-multiple of 3')\n",
    "    elif(i%2 == 0):\n",
    "        print('-multiple of 2')\n",
    "    else:\n",
    "        print(\"-worthless number\")\n",
    "# loop ends when indentation ends\n",
    "print('\\nOut of the loop')\n",
    "# python indentation is done by using 4 spaces\n",
    "# Instead of brackets for scope in other languages, python uses a colon (:) followed by indented lines"
   ]
  },
  {
   "cell_type": "code",
   "execution_count": 60,
   "metadata": {},
   "outputs": [
    {
     "name": "stdout",
     "output_type": "stream",
     "text": [
      "10\n",
      "15\n",
      "====\n",
      "30\n",
      "25\n",
      "We can loop over strings too"
     ]
    }
   ],
   "source": [
    "for i in range (10,20,5): # start, end, jump\n",
    "    print(i)\n",
    "    \n",
    "print(\"====\")\n",
    "\n",
    "for i in range (30,20,-5):\n",
    "    print(i)\n",
    "    \n",
    "for i in \"We can loop over strings too\":\n",
    "    print(i,end='')"
   ]
  },
  {
   "cell_type": "markdown",
   "metadata": {},
   "source": [
    "### Data structures\n",
    "\n",
    "Lists, tuples, sets and dictionaries are used often in python."
   ]
  },
  {
   "cell_type": "code",
   "execution_count": 63,
   "metadata": {},
   "outputs": [
    {
     "name": "stdout",
     "output_type": "stream",
     "text": [
      "<class 'list'>\n",
      "<class 'tuple'>\n",
      "<class 'set'>\n",
      "<class 'dict'>\n"
     ]
    }
   ],
   "source": [
    "l = [1,2,3,4,5,6]\n",
    "print(type(l))\n",
    "\n",
    "t = (1,2,3,4,5,6)\n",
    "print(type(t))\n",
    "\n",
    "s = {1,2,3,4,5,6}\n",
    "print(type(s))\n",
    "\n",
    "d = {1:2, 3:4, 5:6}\n",
    "print(type(d))"
   ]
  },
  {
   "cell_type": "markdown",
   "metadata": {},
   "source": [
    "###### It can be seen that a dict stores key-value pairs, but what is the difference between a list, tuple and a set you wonder?"
   ]
  },
  {
   "cell_type": "markdown",
   "metadata": {},
   "source": [
    "To answer the question, we need to understand the very important concept of immutability. Immutable by definition means unchangeable.\n",
    "\n",
    "int/float, strings, tuples are immutable\n",
    "\n",
    "dictionaries, lists and sets are mutable (changeable)\n",
    "\n",
    "Let me explain this via code"
   ]
  },
  {
   "cell_type": "code",
   "execution_count": 85,
   "metadata": {},
   "outputs": [
    {
     "name": "stdout",
     "output_type": "stream",
     "text": [
      "4394368864\n",
      "4427321040\n"
     ]
    }
   ],
   "source": [
    "a = 123 # an integer\n",
    "print(id(a)) # id will give me the memory location of the variable\n",
    "a = 3434\n",
    "''' The two ids are different because when we changed the immutable integer,\n",
    "a new object was created and assigned to a'''\n",
    "print(id(a))\n"
   ]
  },
  {
   "cell_type": "code",
   "execution_count": 87,
   "metadata": {},
   "outputs": [
    {
     "name": "stdout",
     "output_type": "stream",
     "text": [
      "4427711496\n",
      "4427711496\n",
      "4427594248\n"
     ]
    }
   ],
   "source": [
    "''' lists are mutable, they will retain the same object when they are modified'''\n",
    "l = [1,2,3,4,5]\n",
    "print(id(l))\n",
    "for i in range(len(l)):\n",
    "    l[i] +=1\n",
    "print(id(l))\n",
    "'''We changed elements of l, but it is still the same object'''\n",
    "\n",
    "'''However, if we reassign l, it will become a new object'''\n",
    "l =[1,2,3,4]\n",
    "print(id(l))\n"
   ]
  },
  {
   "cell_type": "markdown",
   "metadata": {},
   "source": [
    "The difference between lists and tuples is just that. Tuples are immutable, lists are not"
   ]
  },
  {
   "cell_type": "code",
   "execution_count": 89,
   "metadata": {},
   "outputs": [
    {
     "ename": "TypeError",
     "evalue": "'tuple' object does not support item assignment",
     "output_type": "error",
     "traceback": [
      "\u001b[0;31m---------------------------------------------------------------------------\u001b[0m",
      "\u001b[0;31mTypeError\u001b[0m                                 Traceback (most recent call last)",
      "\u001b[0;32m<ipython-input-89-b25436d16eab>\u001b[0m in \u001b[0;36m<module>\u001b[0;34m\u001b[0m\n\u001b[1;32m      1\u001b[0m \u001b[0mt\u001b[0m \u001b[0;34m=\u001b[0m \u001b[0;34m(\u001b[0m\u001b[0;36m1\u001b[0m\u001b[0;34m,\u001b[0m\u001b[0;36m2\u001b[0m\u001b[0;34m,\u001b[0m\u001b[0;36m4\u001b[0m\u001b[0;34m,\u001b[0m\u001b[0;36m5\u001b[0m\u001b[0;34m)\u001b[0m\u001b[0;34m\u001b[0m\u001b[0m\n\u001b[0;32m----> 2\u001b[0;31m \u001b[0mt\u001b[0m\u001b[0;34m[\u001b[0m\u001b[0;36m0\u001b[0m\u001b[0;34m]\u001b[0m \u001b[0;34m=\u001b[0m \u001b[0;36m100\u001b[0m \u001b[0;31m# this will give us an error because we are trying to modify a tuple\u001b[0m\u001b[0;34m\u001b[0m\u001b[0m\n\u001b[0m",
      "\u001b[0;31mTypeError\u001b[0m: 'tuple' object does not support item assignment"
     ]
    }
   ],
   "source": [
    "t = (1,2,4,5)\n",
    "t[0] = 100 # this will give us an error because we are trying to modify a tuple"
   ]
  },
  {
   "cell_type": "code",
   "execution_count": 105,
   "metadata": {},
   "outputs": [
    {
     "name": "stdout",
     "output_type": "stream",
     "text": [
      "1 1 1\n",
      "2 2 2\n",
      "3 3 3\n",
      "4 4 4\n",
      "5 5 5\n"
     ]
    }
   ],
   "source": [
    "# You may recall that we can iterate over strings - we can iterate over lists and tuples too.\n",
    "\n",
    "s = \"12345\"\n",
    "t = (1,2,3,4,5)\n",
    "l = [1,2,3,4,5]\n",
    "\n",
    "for x,y,z in zip(s,t,l): # zipping the iterables together\n",
    "    print(x,y,z)"
   ]
  },
  {
   "cell_type": "code",
   "execution_count": 96,
   "metadata": {},
   "outputs": [
    {
     "name": "stdout",
     "output_type": "stream",
     "text": [
      "12345\n",
      "1\n"
     ]
    },
    {
     "ename": "TypeError",
     "evalue": "'str' object does not support item assignment",
     "output_type": "error",
     "traceback": [
      "\u001b[0;31m---------------------------------------------------------------------------\u001b[0m",
      "\u001b[0;31mTypeError\u001b[0m                                 Traceback (most recent call last)",
      "\u001b[0;32m<ipython-input-96-0e78f089a9a2>\u001b[0m in \u001b[0;36m<module>\u001b[0;34m\u001b[0m\n\u001b[1;32m      2\u001b[0m \u001b[0;31m# again, strings are immutable too\u001b[0m\u001b[0;34m\u001b[0m\u001b[0;34m\u001b[0m\u001b[0m\n\u001b[1;32m      3\u001b[0m \u001b[0mprint\u001b[0m\u001b[0;34m(\u001b[0m\u001b[0ms\u001b[0m\u001b[0;34m[\u001b[0m\u001b[0;36m0\u001b[0m\u001b[0;34m]\u001b[0m\u001b[0;34m)\u001b[0m\u001b[0;34m\u001b[0m\u001b[0m\n\u001b[0;32m----> 4\u001b[0;31m \u001b[0ms\u001b[0m\u001b[0;34m[\u001b[0m\u001b[0;36m0\u001b[0m\u001b[0;34m]\u001b[0m\u001b[0;34m=\u001b[0m\u001b[0;34m'v'\u001b[0m\u001b[0;34m\u001b[0m\u001b[0m\n\u001b[0m",
      "\u001b[0;31mTypeError\u001b[0m: 'str' object does not support item assignment"
     ]
    }
   ],
   "source": [
    "print(s)\n",
    "# again, strings are immutable too\n",
    "print(s[0])\n",
    "s[0]='v'"
   ]
  },
  {
   "cell_type": "markdown",
   "metadata": {},
   "source": [
    "Congratulations on making it this far :)\n",
    "This is enough information for one sitting - Do the practice questions to cement what you learned"
   ]
  },
  {
   "cell_type": "markdown",
   "metadata": {},
   "source": [
    "### Q1) Write a function that takes three arguments and returns all three in one a list."
   ]
  },
  {
   "cell_type": "code",
   "execution_count": 111,
   "metadata": {},
   "outputs": [],
   "source": [
    "# Your code here"
   ]
  },
  {
   "cell_type": "markdown",
   "metadata": {},
   "source": [
    "### Q2) FizzBuzz - Write a program that prints the numbers from 1 to 100. But for multiples of three print \"Fizz\" instead of the number and for the multiples of five print \"Buzz\". For numbers which are multiples of both three and five print \"FizzBuzz\"."
   ]
  },
  {
   "cell_type": "code",
   "execution_count": null,
   "metadata": {},
   "outputs": [],
   "source": [
    "# Your code here"
   ]
  }
 ],
 "metadata": {
  "kernelspec": {
   "display_name": "Python 3",
   "language": "python",
   "name": "python3"
  },
  "language_info": {
   "codemirror_mode": {
    "name": "ipython",
    "version": 3
   },
   "file_extension": ".py",
   "mimetype": "text/x-python",
   "name": "python",
   "nbconvert_exporter": "python",
   "pygments_lexer": "ipython3",
   "version": "3.7.0"
  }
 },
 "nbformat": 4,
 "nbformat_minor": 2
}
